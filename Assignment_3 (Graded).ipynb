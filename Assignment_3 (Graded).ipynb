{
 "cells": [
  {
   "cell_type": "markdown",
   "metadata": {},
   "source": [
    "# Description Of DataSet :"
   ]
  },
  {
   "cell_type": "markdown",
   "metadata": {},
   "source": [
    "The study is primarily limited only to students with engineering disciplines. The dataset contains the employment outcomes of engineering graduates as dependent variables (Salary, Job Titles, and Job Locations) along with the standardized scores from three different areas – cognitive skills, technical skills and personality skills. The dataset also contains demographic features. The dataset contains around 40 independent variables and 4000 data points. The independent variables are both continuous and categorical in nature. The dataset contains a unique identifier for each candidate. Below mentioned table contains the details for the original dataset.\n",
    "\n",
    "There is total\n",
    "\n",
    "DateTime column = 2\n",
    "\n",
    "float64 column = 9\n",
    "\n",
    "int64 column = 18\n",
    "\n",
    "object column = 9\n",
    "\n",
    "total numerical columns (continuous / categorical ) = 21"
   ]
  },
  {
   "cell_type": "markdown",
   "metadata": {},
   "source": [
    "# Exploratory Data Analysis (EDA) :"
   ]
  },
  {
   "cell_type": "code",
   "execution_count": 1,
   "metadata": {},
   "outputs": [],
   "source": [
    "import numpy as np\n",
    "import pandas as pd\n",
    "import seaborn as sb\n",
    "import matplotlib.pyplot as plt"
   ]
  },
  {
   "cell_type": "code",
   "execution_count": 2,
   "metadata": {},
   "outputs": [],
   "source": [
    "df = pd.read_excel(\"aspiring_minds_employability_outcomes_2015.xlsx\")"
   ]
  },
  {
   "cell_type": "code",
   "execution_count": 3,
   "metadata": {},
   "outputs": [
    {
     "data": {
      "text/plain": [
       "(3998, 39)"
      ]
     },
     "execution_count": 3,
     "metadata": {},
     "output_type": "execute_result"
    }
   ],
   "source": [
    "df.shape"
   ]
  },
  {
   "cell_type": "code",
   "execution_count": 4,
   "metadata": {},
   "outputs": [
    {
     "data": {
      "text/html": [
       "<div>\n",
       "<style scoped>\n",
       "    .dataframe tbody tr th:only-of-type {\n",
       "        vertical-align: middle;\n",
       "    }\n",
       "\n",
       "    .dataframe tbody tr th {\n",
       "        vertical-align: top;\n",
       "    }\n",
       "\n",
       "    .dataframe thead th {\n",
       "        text-align: right;\n",
       "    }\n",
       "</style>\n",
       "<table border=\"1\" class=\"dataframe\">\n",
       "  <thead>\n",
       "    <tr style=\"text-align: right;\">\n",
       "      <th></th>\n",
       "      <th>Unnamed: 0</th>\n",
       "      <th>ID</th>\n",
       "      <th>Salary</th>\n",
       "      <th>DOJ</th>\n",
       "      <th>DOL</th>\n",
       "      <th>Designation</th>\n",
       "      <th>JobCity</th>\n",
       "      <th>Gender</th>\n",
       "      <th>DOB</th>\n",
       "      <th>10percentage</th>\n",
       "      <th>...</th>\n",
       "      <th>ComputerScience</th>\n",
       "      <th>MechanicalEngg</th>\n",
       "      <th>ElectricalEngg</th>\n",
       "      <th>TelecomEngg</th>\n",
       "      <th>CivilEngg</th>\n",
       "      <th>conscientiousness</th>\n",
       "      <th>agreeableness</th>\n",
       "      <th>extraversion</th>\n",
       "      <th>nueroticism</th>\n",
       "      <th>openess_to_experience</th>\n",
       "    </tr>\n",
       "  </thead>\n",
       "  <tbody>\n",
       "    <tr>\n",
       "      <th>0</th>\n",
       "      <td>train</td>\n",
       "      <td>203097</td>\n",
       "      <td>420000</td>\n",
       "      <td>2012-06-01</td>\n",
       "      <td>present</td>\n",
       "      <td>senior quality engineer</td>\n",
       "      <td>Bangalore</td>\n",
       "      <td>f</td>\n",
       "      <td>1990-02-19</td>\n",
       "      <td>84.3</td>\n",
       "      <td>...</td>\n",
       "      <td>-1</td>\n",
       "      <td>-1</td>\n",
       "      <td>-1</td>\n",
       "      <td>-1</td>\n",
       "      <td>-1</td>\n",
       "      <td>0.9737</td>\n",
       "      <td>0.8128</td>\n",
       "      <td>0.5269</td>\n",
       "      <td>1.35490</td>\n",
       "      <td>-0.4455</td>\n",
       "    </tr>\n",
       "    <tr>\n",
       "      <th>1</th>\n",
       "      <td>train</td>\n",
       "      <td>579905</td>\n",
       "      <td>500000</td>\n",
       "      <td>2013-09-01</td>\n",
       "      <td>present</td>\n",
       "      <td>assistant manager</td>\n",
       "      <td>Indore</td>\n",
       "      <td>m</td>\n",
       "      <td>1989-10-04</td>\n",
       "      <td>85.4</td>\n",
       "      <td>...</td>\n",
       "      <td>-1</td>\n",
       "      <td>-1</td>\n",
       "      <td>-1</td>\n",
       "      <td>-1</td>\n",
       "      <td>-1</td>\n",
       "      <td>-0.7335</td>\n",
       "      <td>0.3789</td>\n",
       "      <td>1.2396</td>\n",
       "      <td>-0.10760</td>\n",
       "      <td>0.8637</td>\n",
       "    </tr>\n",
       "    <tr>\n",
       "      <th>2</th>\n",
       "      <td>train</td>\n",
       "      <td>810601</td>\n",
       "      <td>325000</td>\n",
       "      <td>2014-06-01</td>\n",
       "      <td>present</td>\n",
       "      <td>systems engineer</td>\n",
       "      <td>Chennai</td>\n",
       "      <td>f</td>\n",
       "      <td>1992-08-03</td>\n",
       "      <td>85.0</td>\n",
       "      <td>...</td>\n",
       "      <td>-1</td>\n",
       "      <td>-1</td>\n",
       "      <td>-1</td>\n",
       "      <td>-1</td>\n",
       "      <td>-1</td>\n",
       "      <td>0.2718</td>\n",
       "      <td>1.7109</td>\n",
       "      <td>0.1637</td>\n",
       "      <td>-0.86820</td>\n",
       "      <td>0.6721</td>\n",
       "    </tr>\n",
       "    <tr>\n",
       "      <th>3</th>\n",
       "      <td>train</td>\n",
       "      <td>267447</td>\n",
       "      <td>1100000</td>\n",
       "      <td>2011-07-01</td>\n",
       "      <td>present</td>\n",
       "      <td>senior software engineer</td>\n",
       "      <td>Gurgaon</td>\n",
       "      <td>m</td>\n",
       "      <td>1989-12-05</td>\n",
       "      <td>85.6</td>\n",
       "      <td>...</td>\n",
       "      <td>-1</td>\n",
       "      <td>-1</td>\n",
       "      <td>-1</td>\n",
       "      <td>-1</td>\n",
       "      <td>-1</td>\n",
       "      <td>0.0464</td>\n",
       "      <td>0.3448</td>\n",
       "      <td>-0.3440</td>\n",
       "      <td>-0.40780</td>\n",
       "      <td>-0.9194</td>\n",
       "    </tr>\n",
       "    <tr>\n",
       "      <th>4</th>\n",
       "      <td>train</td>\n",
       "      <td>343523</td>\n",
       "      <td>200000</td>\n",
       "      <td>2014-03-01</td>\n",
       "      <td>2015-03-01 00:00:00</td>\n",
       "      <td>get</td>\n",
       "      <td>Manesar</td>\n",
       "      <td>m</td>\n",
       "      <td>1991-02-27</td>\n",
       "      <td>78.0</td>\n",
       "      <td>...</td>\n",
       "      <td>-1</td>\n",
       "      <td>-1</td>\n",
       "      <td>-1</td>\n",
       "      <td>-1</td>\n",
       "      <td>-1</td>\n",
       "      <td>-0.8810</td>\n",
       "      <td>-0.2793</td>\n",
       "      <td>-1.0697</td>\n",
       "      <td>0.09163</td>\n",
       "      <td>-0.1295</td>\n",
       "    </tr>\n",
       "  </tbody>\n",
       "</table>\n",
       "<p>5 rows × 39 columns</p>\n",
       "</div>"
      ],
      "text/plain": [
       "  Unnamed: 0      ID   Salary        DOJ                  DOL  \\\n",
       "0      train  203097   420000 2012-06-01              present   \n",
       "1      train  579905   500000 2013-09-01              present   \n",
       "2      train  810601   325000 2014-06-01              present   \n",
       "3      train  267447  1100000 2011-07-01              present   \n",
       "4      train  343523   200000 2014-03-01  2015-03-01 00:00:00   \n",
       "\n",
       "                Designation    JobCity Gender        DOB  10percentage  ...  \\\n",
       "0   senior quality engineer  Bangalore      f 1990-02-19          84.3  ...   \n",
       "1         assistant manager     Indore      m 1989-10-04          85.4  ...   \n",
       "2          systems engineer    Chennai      f 1992-08-03          85.0  ...   \n",
       "3  senior software engineer    Gurgaon      m 1989-12-05          85.6  ...   \n",
       "4                       get    Manesar      m 1991-02-27          78.0  ...   \n",
       "\n",
       "  ComputerScience  MechanicalEngg  ElectricalEngg TelecomEngg  CivilEngg  \\\n",
       "0              -1              -1              -1          -1         -1   \n",
       "1              -1              -1              -1          -1         -1   \n",
       "2              -1              -1              -1          -1         -1   \n",
       "3              -1              -1              -1          -1         -1   \n",
       "4              -1              -1              -1          -1         -1   \n",
       "\n",
       "   conscientiousness agreeableness extraversion  nueroticism  \\\n",
       "0             0.9737        0.8128       0.5269      1.35490   \n",
       "1            -0.7335        0.3789       1.2396     -0.10760   \n",
       "2             0.2718        1.7109       0.1637     -0.86820   \n",
       "3             0.0464        0.3448      -0.3440     -0.40780   \n",
       "4            -0.8810       -0.2793      -1.0697      0.09163   \n",
       "\n",
       "   openess_to_experience  \n",
       "0                -0.4455  \n",
       "1                 0.8637  \n",
       "2                 0.6721  \n",
       "3                -0.9194  \n",
       "4                -0.1295  \n",
       "\n",
       "[5 rows x 39 columns]"
      ]
     },
     "execution_count": 4,
     "metadata": {},
     "output_type": "execute_result"
    }
   ],
   "source": [
    "df.head()"
   ]
  },
  {
   "cell_type": "code",
   "execution_count": 5,
   "metadata": {},
   "outputs": [
    {
     "name": "stdout",
     "output_type": "stream",
     "text": [
      "<class 'pandas.core.frame.DataFrame'>\n",
      "RangeIndex: 3998 entries, 0 to 3997\n",
      "Data columns (total 39 columns):\n",
      " #   Column                 Non-Null Count  Dtype         \n",
      "---  ------                 --------------  -----         \n",
      " 0   Unnamed: 0             3998 non-null   object        \n",
      " 1   ID                     3998 non-null   int64         \n",
      " 2   Salary                 3998 non-null   int64         \n",
      " 3   DOJ                    3998 non-null   datetime64[ns]\n",
      " 4   DOL                    3998 non-null   object        \n",
      " 5   Designation            3998 non-null   object        \n",
      " 6   JobCity                3998 non-null   object        \n",
      " 7   Gender                 3998 non-null   object        \n",
      " 8   DOB                    3998 non-null   datetime64[ns]\n",
      " 9   10percentage           3998 non-null   float64       \n",
      " 10  10board                3998 non-null   object        \n",
      " 11  12graduation           3998 non-null   int64         \n",
      " 12  12percentage           3998 non-null   float64       \n",
      " 13  12board                3998 non-null   object        \n",
      " 14  CollegeID              3998 non-null   int64         \n",
      " 15  CollegeTier            3998 non-null   int64         \n",
      " 16  Degree                 3998 non-null   object        \n",
      " 17  Specialization         3998 non-null   object        \n",
      " 18  collegeGPA             3998 non-null   float64       \n",
      " 19  CollegeCityID          3998 non-null   int64         \n",
      " 20  CollegeCityTier        3998 non-null   int64         \n",
      " 21  CollegeState           3998 non-null   object        \n",
      " 22  GraduationYear         3998 non-null   int64         \n",
      " 23  English                3998 non-null   int64         \n",
      " 24  Logical                3998 non-null   int64         \n",
      " 25  Quant                  3998 non-null   int64         \n",
      " 26  Domain                 3998 non-null   float64       \n",
      " 27  ComputerProgramming    3998 non-null   int64         \n",
      " 28  ElectronicsAndSemicon  3998 non-null   int64         \n",
      " 29  ComputerScience        3998 non-null   int64         \n",
      " 30  MechanicalEngg         3998 non-null   int64         \n",
      " 31  ElectricalEngg         3998 non-null   int64         \n",
      " 32  TelecomEngg            3998 non-null   int64         \n",
      " 33  CivilEngg              3998 non-null   int64         \n",
      " 34  conscientiousness      3998 non-null   float64       \n",
      " 35  agreeableness          3998 non-null   float64       \n",
      " 36  extraversion           3998 non-null   float64       \n",
      " 37  nueroticism            3998 non-null   float64       \n",
      " 38  openess_to_experience  3998 non-null   float64       \n",
      "dtypes: datetime64[ns](2), float64(9), int64(18), object(10)\n",
      "memory usage: 1.2+ MB\n"
     ]
    }
   ],
   "source": [
    "df.info()"
   ]
  },
  {
   "cell_type": "code",
   "execution_count": 6,
   "metadata": {},
   "outputs": [
    {
     "data": {
      "text/html": [
       "<div>\n",
       "<style scoped>\n",
       "    .dataframe tbody tr th:only-of-type {\n",
       "        vertical-align: middle;\n",
       "    }\n",
       "\n",
       "    .dataframe tbody tr th {\n",
       "        vertical-align: top;\n",
       "    }\n",
       "\n",
       "    .dataframe thead th {\n",
       "        text-align: right;\n",
       "    }\n",
       "</style>\n",
       "<table border=\"1\" class=\"dataframe\">\n",
       "  <thead>\n",
       "    <tr style=\"text-align: right;\">\n",
       "      <th></th>\n",
       "      <th>count</th>\n",
       "      <th>mean</th>\n",
       "      <th>std</th>\n",
       "      <th>min</th>\n",
       "      <th>25%</th>\n",
       "      <th>50%</th>\n",
       "      <th>75%</th>\n",
       "      <th>max</th>\n",
       "    </tr>\n",
       "  </thead>\n",
       "  <tbody>\n",
       "    <tr>\n",
       "      <th>ID</th>\n",
       "      <td>3998.0</td>\n",
       "      <td>663794.540520</td>\n",
       "      <td>363218.245829</td>\n",
       "      <td>11244.0000</td>\n",
       "      <td>334284.250000</td>\n",
       "      <td>639600.000000</td>\n",
       "      <td>990480.000000</td>\n",
       "      <td>1.298275e+06</td>\n",
       "    </tr>\n",
       "    <tr>\n",
       "      <th>Salary</th>\n",
       "      <td>3998.0</td>\n",
       "      <td>307699.849925</td>\n",
       "      <td>212737.499957</td>\n",
       "      <td>35000.0000</td>\n",
       "      <td>180000.000000</td>\n",
       "      <td>300000.000000</td>\n",
       "      <td>370000.000000</td>\n",
       "      <td>4.000000e+06</td>\n",
       "    </tr>\n",
       "    <tr>\n",
       "      <th>10percentage</th>\n",
       "      <td>3998.0</td>\n",
       "      <td>77.925443</td>\n",
       "      <td>9.850162</td>\n",
       "      <td>43.0000</td>\n",
       "      <td>71.680000</td>\n",
       "      <td>79.150000</td>\n",
       "      <td>85.670000</td>\n",
       "      <td>9.776000e+01</td>\n",
       "    </tr>\n",
       "    <tr>\n",
       "      <th>12graduation</th>\n",
       "      <td>3998.0</td>\n",
       "      <td>2008.087544</td>\n",
       "      <td>1.653599</td>\n",
       "      <td>1995.0000</td>\n",
       "      <td>2007.000000</td>\n",
       "      <td>2008.000000</td>\n",
       "      <td>2009.000000</td>\n",
       "      <td>2.013000e+03</td>\n",
       "    </tr>\n",
       "    <tr>\n",
       "      <th>12percentage</th>\n",
       "      <td>3998.0</td>\n",
       "      <td>74.466366</td>\n",
       "      <td>10.999933</td>\n",
       "      <td>40.0000</td>\n",
       "      <td>66.000000</td>\n",
       "      <td>74.400000</td>\n",
       "      <td>82.600000</td>\n",
       "      <td>9.870000e+01</td>\n",
       "    </tr>\n",
       "    <tr>\n",
       "      <th>CollegeID</th>\n",
       "      <td>3998.0</td>\n",
       "      <td>5156.851426</td>\n",
       "      <td>4802.261482</td>\n",
       "      <td>2.0000</td>\n",
       "      <td>494.000000</td>\n",
       "      <td>3879.000000</td>\n",
       "      <td>8818.000000</td>\n",
       "      <td>1.840900e+04</td>\n",
       "    </tr>\n",
       "    <tr>\n",
       "      <th>CollegeTier</th>\n",
       "      <td>3998.0</td>\n",
       "      <td>1.925713</td>\n",
       "      <td>0.262270</td>\n",
       "      <td>1.0000</td>\n",
       "      <td>2.000000</td>\n",
       "      <td>2.000000</td>\n",
       "      <td>2.000000</td>\n",
       "      <td>2.000000e+00</td>\n",
       "    </tr>\n",
       "    <tr>\n",
       "      <th>collegeGPA</th>\n",
       "      <td>3998.0</td>\n",
       "      <td>71.486171</td>\n",
       "      <td>8.167338</td>\n",
       "      <td>6.4500</td>\n",
       "      <td>66.407500</td>\n",
       "      <td>71.720000</td>\n",
       "      <td>76.327500</td>\n",
       "      <td>9.993000e+01</td>\n",
       "    </tr>\n",
       "    <tr>\n",
       "      <th>CollegeCityID</th>\n",
       "      <td>3998.0</td>\n",
       "      <td>5156.851426</td>\n",
       "      <td>4802.261482</td>\n",
       "      <td>2.0000</td>\n",
       "      <td>494.000000</td>\n",
       "      <td>3879.000000</td>\n",
       "      <td>8818.000000</td>\n",
       "      <td>1.840900e+04</td>\n",
       "    </tr>\n",
       "    <tr>\n",
       "      <th>CollegeCityTier</th>\n",
       "      <td>3998.0</td>\n",
       "      <td>0.300400</td>\n",
       "      <td>0.458489</td>\n",
       "      <td>0.0000</td>\n",
       "      <td>0.000000</td>\n",
       "      <td>0.000000</td>\n",
       "      <td>1.000000</td>\n",
       "      <td>1.000000e+00</td>\n",
       "    </tr>\n",
       "    <tr>\n",
       "      <th>GraduationYear</th>\n",
       "      <td>3998.0</td>\n",
       "      <td>2012.105803</td>\n",
       "      <td>31.857271</td>\n",
       "      <td>0.0000</td>\n",
       "      <td>2012.000000</td>\n",
       "      <td>2013.000000</td>\n",
       "      <td>2014.000000</td>\n",
       "      <td>2.017000e+03</td>\n",
       "    </tr>\n",
       "    <tr>\n",
       "      <th>English</th>\n",
       "      <td>3998.0</td>\n",
       "      <td>501.649075</td>\n",
       "      <td>104.940021</td>\n",
       "      <td>180.0000</td>\n",
       "      <td>425.000000</td>\n",
       "      <td>500.000000</td>\n",
       "      <td>570.000000</td>\n",
       "      <td>8.750000e+02</td>\n",
       "    </tr>\n",
       "    <tr>\n",
       "      <th>Logical</th>\n",
       "      <td>3998.0</td>\n",
       "      <td>501.598799</td>\n",
       "      <td>86.783297</td>\n",
       "      <td>195.0000</td>\n",
       "      <td>445.000000</td>\n",
       "      <td>505.000000</td>\n",
       "      <td>565.000000</td>\n",
       "      <td>7.950000e+02</td>\n",
       "    </tr>\n",
       "    <tr>\n",
       "      <th>Quant</th>\n",
       "      <td>3998.0</td>\n",
       "      <td>513.378189</td>\n",
       "      <td>122.302332</td>\n",
       "      <td>120.0000</td>\n",
       "      <td>430.000000</td>\n",
       "      <td>515.000000</td>\n",
       "      <td>595.000000</td>\n",
       "      <td>9.000000e+02</td>\n",
       "    </tr>\n",
       "    <tr>\n",
       "      <th>Domain</th>\n",
       "      <td>3998.0</td>\n",
       "      <td>0.510490</td>\n",
       "      <td>0.468671</td>\n",
       "      <td>-1.0000</td>\n",
       "      <td>0.342315</td>\n",
       "      <td>0.622643</td>\n",
       "      <td>0.842248</td>\n",
       "      <td>9.999104e-01</td>\n",
       "    </tr>\n",
       "    <tr>\n",
       "      <th>ComputerProgramming</th>\n",
       "      <td>3998.0</td>\n",
       "      <td>353.102801</td>\n",
       "      <td>205.355519</td>\n",
       "      <td>-1.0000</td>\n",
       "      <td>295.000000</td>\n",
       "      <td>415.000000</td>\n",
       "      <td>495.000000</td>\n",
       "      <td>8.400000e+02</td>\n",
       "    </tr>\n",
       "    <tr>\n",
       "      <th>ElectronicsAndSemicon</th>\n",
       "      <td>3998.0</td>\n",
       "      <td>95.328414</td>\n",
       "      <td>158.241218</td>\n",
       "      <td>-1.0000</td>\n",
       "      <td>-1.000000</td>\n",
       "      <td>-1.000000</td>\n",
       "      <td>233.000000</td>\n",
       "      <td>6.120000e+02</td>\n",
       "    </tr>\n",
       "    <tr>\n",
       "      <th>ComputerScience</th>\n",
       "      <td>3998.0</td>\n",
       "      <td>90.742371</td>\n",
       "      <td>175.273083</td>\n",
       "      <td>-1.0000</td>\n",
       "      <td>-1.000000</td>\n",
       "      <td>-1.000000</td>\n",
       "      <td>-1.000000</td>\n",
       "      <td>7.150000e+02</td>\n",
       "    </tr>\n",
       "    <tr>\n",
       "      <th>MechanicalEngg</th>\n",
       "      <td>3998.0</td>\n",
       "      <td>22.974737</td>\n",
       "      <td>98.123311</td>\n",
       "      <td>-1.0000</td>\n",
       "      <td>-1.000000</td>\n",
       "      <td>-1.000000</td>\n",
       "      <td>-1.000000</td>\n",
       "      <td>6.230000e+02</td>\n",
       "    </tr>\n",
       "    <tr>\n",
       "      <th>ElectricalEngg</th>\n",
       "      <td>3998.0</td>\n",
       "      <td>16.478739</td>\n",
       "      <td>87.585634</td>\n",
       "      <td>-1.0000</td>\n",
       "      <td>-1.000000</td>\n",
       "      <td>-1.000000</td>\n",
       "      <td>-1.000000</td>\n",
       "      <td>6.760000e+02</td>\n",
       "    </tr>\n",
       "    <tr>\n",
       "      <th>TelecomEngg</th>\n",
       "      <td>3998.0</td>\n",
       "      <td>31.851176</td>\n",
       "      <td>104.852845</td>\n",
       "      <td>-1.0000</td>\n",
       "      <td>-1.000000</td>\n",
       "      <td>-1.000000</td>\n",
       "      <td>-1.000000</td>\n",
       "      <td>5.480000e+02</td>\n",
       "    </tr>\n",
       "    <tr>\n",
       "      <th>CivilEngg</th>\n",
       "      <td>3998.0</td>\n",
       "      <td>2.683842</td>\n",
       "      <td>36.658505</td>\n",
       "      <td>-1.0000</td>\n",
       "      <td>-1.000000</td>\n",
       "      <td>-1.000000</td>\n",
       "      <td>-1.000000</td>\n",
       "      <td>5.160000e+02</td>\n",
       "    </tr>\n",
       "    <tr>\n",
       "      <th>conscientiousness</th>\n",
       "      <td>3998.0</td>\n",
       "      <td>-0.037831</td>\n",
       "      <td>1.028666</td>\n",
       "      <td>-4.1267</td>\n",
       "      <td>-0.713525</td>\n",
       "      <td>0.046400</td>\n",
       "      <td>0.702700</td>\n",
       "      <td>1.995300e+00</td>\n",
       "    </tr>\n",
       "    <tr>\n",
       "      <th>agreeableness</th>\n",
       "      <td>3998.0</td>\n",
       "      <td>0.146496</td>\n",
       "      <td>0.941782</td>\n",
       "      <td>-5.7816</td>\n",
       "      <td>-0.287100</td>\n",
       "      <td>0.212400</td>\n",
       "      <td>0.812800</td>\n",
       "      <td>1.904800e+00</td>\n",
       "    </tr>\n",
       "    <tr>\n",
       "      <th>extraversion</th>\n",
       "      <td>3998.0</td>\n",
       "      <td>0.002763</td>\n",
       "      <td>0.951471</td>\n",
       "      <td>-4.6009</td>\n",
       "      <td>-0.604800</td>\n",
       "      <td>0.091400</td>\n",
       "      <td>0.672000</td>\n",
       "      <td>2.535400e+00</td>\n",
       "    </tr>\n",
       "    <tr>\n",
       "      <th>nueroticism</th>\n",
       "      <td>3998.0</td>\n",
       "      <td>-0.169033</td>\n",
       "      <td>1.007580</td>\n",
       "      <td>-2.6430</td>\n",
       "      <td>-0.868200</td>\n",
       "      <td>-0.234400</td>\n",
       "      <td>0.526200</td>\n",
       "      <td>3.352500e+00</td>\n",
       "    </tr>\n",
       "    <tr>\n",
       "      <th>openess_to_experience</th>\n",
       "      <td>3998.0</td>\n",
       "      <td>-0.138110</td>\n",
       "      <td>1.008075</td>\n",
       "      <td>-7.3757</td>\n",
       "      <td>-0.669200</td>\n",
       "      <td>-0.094300</td>\n",
       "      <td>0.502400</td>\n",
       "      <td>1.822400e+00</td>\n",
       "    </tr>\n",
       "  </tbody>\n",
       "</table>\n",
       "</div>"
      ],
      "text/plain": [
       "                        count           mean            std         min  \\\n",
       "ID                     3998.0  663794.540520  363218.245829  11244.0000   \n",
       "Salary                 3998.0  307699.849925  212737.499957  35000.0000   \n",
       "10percentage           3998.0      77.925443       9.850162     43.0000   \n",
       "12graduation           3998.0    2008.087544       1.653599   1995.0000   \n",
       "12percentage           3998.0      74.466366      10.999933     40.0000   \n",
       "CollegeID              3998.0    5156.851426    4802.261482      2.0000   \n",
       "CollegeTier            3998.0       1.925713       0.262270      1.0000   \n",
       "collegeGPA             3998.0      71.486171       8.167338      6.4500   \n",
       "CollegeCityID          3998.0    5156.851426    4802.261482      2.0000   \n",
       "CollegeCityTier        3998.0       0.300400       0.458489      0.0000   \n",
       "GraduationYear         3998.0    2012.105803      31.857271      0.0000   \n",
       "English                3998.0     501.649075     104.940021    180.0000   \n",
       "Logical                3998.0     501.598799      86.783297    195.0000   \n",
       "Quant                  3998.0     513.378189     122.302332    120.0000   \n",
       "Domain                 3998.0       0.510490       0.468671     -1.0000   \n",
       "ComputerProgramming    3998.0     353.102801     205.355519     -1.0000   \n",
       "ElectronicsAndSemicon  3998.0      95.328414     158.241218     -1.0000   \n",
       "ComputerScience        3998.0      90.742371     175.273083     -1.0000   \n",
       "MechanicalEngg         3998.0      22.974737      98.123311     -1.0000   \n",
       "ElectricalEngg         3998.0      16.478739      87.585634     -1.0000   \n",
       "TelecomEngg            3998.0      31.851176     104.852845     -1.0000   \n",
       "CivilEngg              3998.0       2.683842      36.658505     -1.0000   \n",
       "conscientiousness      3998.0      -0.037831       1.028666     -4.1267   \n",
       "agreeableness          3998.0       0.146496       0.941782     -5.7816   \n",
       "extraversion           3998.0       0.002763       0.951471     -4.6009   \n",
       "nueroticism            3998.0      -0.169033       1.007580     -2.6430   \n",
       "openess_to_experience  3998.0      -0.138110       1.008075     -7.3757   \n",
       "\n",
       "                                 25%            50%            75%  \\\n",
       "ID                     334284.250000  639600.000000  990480.000000   \n",
       "Salary                 180000.000000  300000.000000  370000.000000   \n",
       "10percentage               71.680000      79.150000      85.670000   \n",
       "12graduation             2007.000000    2008.000000    2009.000000   \n",
       "12percentage               66.000000      74.400000      82.600000   \n",
       "CollegeID                 494.000000    3879.000000    8818.000000   \n",
       "CollegeTier                 2.000000       2.000000       2.000000   \n",
       "collegeGPA                 66.407500      71.720000      76.327500   \n",
       "CollegeCityID             494.000000    3879.000000    8818.000000   \n",
       "CollegeCityTier             0.000000       0.000000       1.000000   \n",
       "GraduationYear           2012.000000    2013.000000    2014.000000   \n",
       "English                   425.000000     500.000000     570.000000   \n",
       "Logical                   445.000000     505.000000     565.000000   \n",
       "Quant                     430.000000     515.000000     595.000000   \n",
       "Domain                      0.342315       0.622643       0.842248   \n",
       "ComputerProgramming       295.000000     415.000000     495.000000   \n",
       "ElectronicsAndSemicon      -1.000000      -1.000000     233.000000   \n",
       "ComputerScience            -1.000000      -1.000000      -1.000000   \n",
       "MechanicalEngg             -1.000000      -1.000000      -1.000000   \n",
       "ElectricalEngg             -1.000000      -1.000000      -1.000000   \n",
       "TelecomEngg                -1.000000      -1.000000      -1.000000   \n",
       "CivilEngg                  -1.000000      -1.000000      -1.000000   \n",
       "conscientiousness          -0.713525       0.046400       0.702700   \n",
       "agreeableness              -0.287100       0.212400       0.812800   \n",
       "extraversion               -0.604800       0.091400       0.672000   \n",
       "nueroticism                -0.868200      -0.234400       0.526200   \n",
       "openess_to_experience      -0.669200      -0.094300       0.502400   \n",
       "\n",
       "                                max  \n",
       "ID                     1.298275e+06  \n",
       "Salary                 4.000000e+06  \n",
       "10percentage           9.776000e+01  \n",
       "12graduation           2.013000e+03  \n",
       "12percentage           9.870000e+01  \n",
       "CollegeID              1.840900e+04  \n",
       "CollegeTier            2.000000e+00  \n",
       "collegeGPA             9.993000e+01  \n",
       "CollegeCityID          1.840900e+04  \n",
       "CollegeCityTier        1.000000e+00  \n",
       "GraduationYear         2.017000e+03  \n",
       "English                8.750000e+02  \n",
       "Logical                7.950000e+02  \n",
       "Quant                  9.000000e+02  \n",
       "Domain                 9.999104e-01  \n",
       "ComputerProgramming    8.400000e+02  \n",
       "ElectronicsAndSemicon  6.120000e+02  \n",
       "ComputerScience        7.150000e+02  \n",
       "MechanicalEngg         6.230000e+02  \n",
       "ElectricalEngg         6.760000e+02  \n",
       "TelecomEngg            5.480000e+02  \n",
       "CivilEngg              5.160000e+02  \n",
       "conscientiousness      1.995300e+00  \n",
       "agreeableness          1.904800e+00  \n",
       "extraversion           2.535400e+00  \n",
       "nueroticism            3.352500e+00  \n",
       "openess_to_experience  1.822400e+00  "
      ]
     },
     "execution_count": 6,
     "metadata": {},
     "output_type": "execute_result"
    }
   ],
   "source": [
    "df.describe().T"
   ]
  },
  {
   "cell_type": "markdown",
   "metadata": {},
   "source": [
    "# Find Outliers in Numerical Column :"
   ]
  },
  {
   "cell_type": "code",
   "execution_count": 7,
   "metadata": {},
   "outputs": [
    {
     "name": "stdout",
     "output_type": "stream",
     "text": [
      "ID                       656195.750000\n",
      "Salary                   190000.000000\n",
      "10percentage                 13.990000\n",
      "12graduation                  2.000000\n",
      "12percentage                 16.600000\n",
      "CollegeID                  8324.000000\n",
      "CollegeTier                   0.000000\n",
      "collegeGPA                    9.920000\n",
      "CollegeCityID              8324.000000\n",
      "CollegeCityTier               1.000000\n",
      "GraduationYear                2.000000\n",
      "English                     145.000000\n",
      "Logical                     120.000000\n",
      "Quant                       165.000000\n",
      "Domain                        0.499933\n",
      "ComputerProgramming         200.000000\n",
      "ElectronicsAndSemicon       234.000000\n",
      "ComputerScience               0.000000\n",
      "MechanicalEngg                0.000000\n",
      "ElectricalEngg                0.000000\n",
      "TelecomEngg                   0.000000\n",
      "CivilEngg                     0.000000\n",
      "conscientiousness             1.416225\n",
      "agreeableness                 1.099900\n",
      "extraversion                  1.276800\n",
      "nueroticism                   1.394400\n",
      "openess_to_experience         1.171600\n",
      "dtype: float64\n"
     ]
    }
   ],
   "source": [
    "q1 = df.quantile(0.25)\n",
    "q3 = df.quantile(0.75)\n",
    "iqr = q3-q1\n",
    "print(iqr)"
   ]
  },
  {
   "cell_type": "code",
   "execution_count": 8,
   "metadata": {},
   "outputs": [
    {
     "name": "stdout",
     "output_type": "stream",
     "text": [
      "<class 'pandas.core.frame.DataFrame'>\n",
      "RangeIndex: 3998 entries, 0 to 3997\n",
      "Data columns (total 27 columns):\n",
      " #   Column                 Non-Null Count  Dtype  \n",
      "---  ------                 --------------  -----  \n",
      " 0   ID                     3998 non-null   int64  \n",
      " 1   Salary                 3998 non-null   int64  \n",
      " 2   10percentage           3998 non-null   float64\n",
      " 3   12graduation           3998 non-null   int64  \n",
      " 4   12percentage           3998 non-null   float64\n",
      " 5   CollegeID              3998 non-null   int64  \n",
      " 6   CollegeTier            3998 non-null   int64  \n",
      " 7   collegeGPA             3998 non-null   float64\n",
      " 8   CollegeCityID          3998 non-null   int64  \n",
      " 9   CollegeCityTier        3998 non-null   int64  \n",
      " 10  GraduationYear         3998 non-null   int64  \n",
      " 11  English                3998 non-null   int64  \n",
      " 12  Logical                3998 non-null   int64  \n",
      " 13  Quant                  3998 non-null   int64  \n",
      " 14  Domain                 3998 non-null   float64\n",
      " 15  ComputerProgramming    3998 non-null   int64  \n",
      " 16  ElectronicsAndSemicon  3998 non-null   int64  \n",
      " 17  ComputerScience        3998 non-null   int64  \n",
      " 18  MechanicalEngg         3998 non-null   int64  \n",
      " 19  ElectricalEngg         3998 non-null   int64  \n",
      " 20  TelecomEngg            3998 non-null   int64  \n",
      " 21  CivilEngg              3998 non-null   int64  \n",
      " 22  conscientiousness      3998 non-null   float64\n",
      " 23  agreeableness          3998 non-null   float64\n",
      " 24  extraversion           3998 non-null   float64\n",
      " 25  nueroticism            3998 non-null   float64\n",
      " 26  openess_to_experience  3998 non-null   float64\n",
      "dtypes: float64(9), int64(18)\n",
      "memory usage: 843.5 KB\n"
     ]
    }
   ],
   "source": [
    "n = ['int64', 'float64']\n",
    "num_col = df.select_dtypes(n)\n",
    "num_col.info()"
   ]
  },
  {
   "cell_type": "code",
   "execution_count": 9,
   "metadata": {},
   "outputs": [],
   "source": [
    "df_outlier = (num_col < (q1 - 1.5 * iqr)) |(num_col > (q3 + 1.5 * iqr))"
   ]
  },
  {
   "cell_type": "code",
   "execution_count": 10,
   "metadata": {},
   "outputs": [
    {
     "name": "stdout",
     "output_type": "stream",
     "text": [
      "<class 'pandas.core.frame.DataFrame'>\n",
      "RangeIndex: 3998 entries, 0 to 3997\n",
      "Data columns (total 27 columns):\n",
      " #   Column                 Non-Null Count  Dtype\n",
      "---  ------                 --------------  -----\n",
      " 0   ID                     3998 non-null   bool \n",
      " 1   Salary                 3998 non-null   bool \n",
      " 2   10percentage           3998 non-null   bool \n",
      " 3   12graduation           3998 non-null   bool \n",
      " 4   12percentage           3998 non-null   bool \n",
      " 5   CollegeID              3998 non-null   bool \n",
      " 6   CollegeTier            3998 non-null   bool \n",
      " 7   collegeGPA             3998 non-null   bool \n",
      " 8   CollegeCityID          3998 non-null   bool \n",
      " 9   CollegeCityTier        3998 non-null   bool \n",
      " 10  GraduationYear         3998 non-null   bool \n",
      " 11  English                3998 non-null   bool \n",
      " 12  Logical                3998 non-null   bool \n",
      " 13  Quant                  3998 non-null   bool \n",
      " 14  Domain                 3998 non-null   bool \n",
      " 15  ComputerProgramming    3998 non-null   bool \n",
      " 16  ElectronicsAndSemicon  3998 non-null   bool \n",
      " 17  ComputerScience        3998 non-null   bool \n",
      " 18  MechanicalEngg         3998 non-null   bool \n",
      " 19  ElectricalEngg         3998 non-null   bool \n",
      " 20  TelecomEngg            3998 non-null   bool \n",
      " 21  CivilEngg              3998 non-null   bool \n",
      " 22  conscientiousness      3998 non-null   bool \n",
      " 23  agreeableness          3998 non-null   bool \n",
      " 24  extraversion           3998 non-null   bool \n",
      " 25  nueroticism            3998 non-null   bool \n",
      " 26  openess_to_experience  3998 non-null   bool \n",
      "dtypes: bool(27)\n",
      "memory usage: 105.5 KB\n"
     ]
    }
   ],
   "source": [
    "df_outlier.info()"
   ]
  },
  {
   "cell_type": "markdown",
   "metadata": {},
   "source": [
    "## For ID Column"
   ]
  },
  {
   "cell_type": "code",
   "execution_count": 11,
   "metadata": {},
   "outputs": [
    {
     "data": {
      "text/plain": [
       "(0, 27)"
      ]
     },
     "execution_count": 11,
     "metadata": {},
     "output_type": "execute_result"
    }
   ],
   "source": [
    "df_outlier.loc[df_outlier['ID'] == True].shape"
   ]
  },
  {
   "cell_type": "markdown",
   "metadata": {},
   "source": [
    "###### Their is 0 rows so there is no outliers in ID column"
   ]
  },
  {
   "cell_type": "markdown",
   "metadata": {},
   "source": [
    "## For Salary Column"
   ]
  },
  {
   "cell_type": "code",
   "execution_count": 12,
   "metadata": {},
   "outputs": [
    {
     "data": {
      "text/plain": [
       "(109, 27)"
      ]
     },
     "execution_count": 12,
     "metadata": {},
     "output_type": "execute_result"
    }
   ],
   "source": [
    "df_outlier.loc[df_outlier['Salary'] == True].shape"
   ]
  },
  {
   "cell_type": "code",
   "execution_count": 13,
   "metadata": {},
   "outputs": [
    {
     "data": {
      "text/plain": [
       "<matplotlib.axes._subplots.AxesSubplot at 0x1bd2cca4a48>"
      ]
     },
     "execution_count": 13,
     "metadata": {},
     "output_type": "execute_result"
    },
    {
     "data": {
      "image/png": "[encoded data removed]",
      "text/plain": [
       "<Figure size 432x288 with 1 Axes>"
      ]
     },
     "metadata": {
      "needs_background": "light"
     },
     "output_type": "display_data"
    }
   ],
   "source": [
    "sb.boxplot(df['Salary'])"
   ]
  },
  {
   "cell_type": "markdown",
   "metadata": {},
   "source": [
    "###### There is 109 outliers present in Salary Column"
   ]
  },
  {
   "cell_type": "markdown",
   "metadata": {},
   "source": [
    "## For 10percentage Column"
   ]
  },
  {
   "cell_type": "code",
   "execution_count": 14,
   "metadata": {},
   "outputs": [
    {
     "data": {
      "text/plain": [
       "(30, 27)"
      ]
     },
     "execution_count": 14,
     "metadata": {},
     "output_type": "execute_result"
    }
   ],
   "source": [
    "df_outlier.loc[df_outlier['10percentage'] == True].shape"
   ]
  },
  {
   "cell_type": "code",
   "execution_count": 15,
   "metadata": {},
   "outputs": [
    {
     "data": {
      "text/plain": [
       "<matplotlib.axes._subplots.AxesSubplot at 0x1bd2cdd4a48>"
      ]
     },
     "execution_count": 15,
     "metadata": {},
     "output_type": "execute_result"
    },
    {
     "data": {
      "image/png": "[encoded data removed]",
      "text/plain": [
       "<Figure size 432x288 with 1 Axes>"
      ]
     },
     "metadata": {
      "needs_background": "light"
     },
     "output_type": "display_data"
    }
   ],
   "source": [
    "sb.boxplot(df['10percentage'])"
   ]
  },
  {
   "cell_type": "markdown",
   "metadata": {},
   "source": [
    "###### There is 109 outliers present in 10percentage Column"
   ]
  },
  {
   "cell_type": "markdown",
   "metadata": {},
   "source": [
    "## For 12graduation Column"
   ]
  },
  {
   "cell_type": "code",
   "execution_count": 16,
   "metadata": {},
   "outputs": [
    {
     "data": {
      "text/plain": [
       "(45, 27)"
      ]
     },
     "execution_count": 16,
     "metadata": {},
     "output_type": "execute_result"
    }
   ],
   "source": [
    "df_outlier.loc[df_outlier['12graduation'] == True].shape"
   ]
  },
  {
   "cell_type": "code",
   "execution_count": 17,
   "metadata": {},
   "outputs": [
    {
     "data": {
      "text/plain": [
       "<matplotlib.axes._subplots.AxesSubplot at 0x1bd2c6539c8>"
      ]
     },
     "execution_count": 17,
     "metadata": {},
     "output_type": "execute_result"
    },
    {
     "data": {
      "image/png": "[encoded data removed]",
      "text/plain": [
       "<Figure size 432x288 with 1 Axes>"
      ]
     },
     "metadata": {
      "needs_background": "light"
     },
     "output_type": "display_data"
    }
   ],
   "source": [
    "sb.boxplot(df['12graduation'])"
   ]
  },
  {
   "cell_type": "markdown",
   "metadata": {},
   "source": [
    "###### There is 45 outliers present in 12graduation Column"
   ]
  },
  {
   "cell_type": "markdown",
   "metadata": {},
   "source": [
    "## For 12percentage Column"
   ]
  },
  {
   "cell_type": "code",
   "execution_count": 18,
   "metadata": {},
   "outputs": [
    {
     "data": {
      "text/plain": [
       "(1, 27)"
      ]
     },
     "execution_count": 18,
     "metadata": {},
     "output_type": "execute_result"
    }
   ],
   "source": [
    "df_outlier.loc[df_outlier['12percentage'] == True].shape"
   ]
  },
  {
   "cell_type": "code",
   "execution_count": 19,
   "metadata": {},
   "outputs": [
    {
     "data": {
      "text/plain": [
       "<matplotlib.axes._subplots.AxesSubplot at 0x1bd2ca92808>"
      ]
     },
     "execution_count": 19,
     "metadata": {},
     "output_type": "execute_result"
    },
    {
     "data": {
      "image/png": "[encoded data removed]",
      "text/plain": [
       "<Figure size 432x288 with 1 Axes>"
      ]
     },
     "metadata": {
      "needs_background": "light"
     },
     "output_type": "display_data"
    }
   ],
   "source": [
    "sb.boxplot(df['12percentage'])"
   ]
  },
  {
   "cell_type": "markdown",
   "metadata": {},
   "source": [
    "###### There is 1 outliers present in 12percentage Column"
   ]
  },
  {
   "cell_type": "markdown",
   "metadata": {},
   "source": [
    "## For CollegeId Column"
   ]
  },
  {
   "cell_type": "code",
   "execution_count": 20,
   "metadata": {},
   "outputs": [
    {
     "data": {
      "text/plain": [
       "(0, 27)"
      ]
     },
     "execution_count": 20,
     "metadata": {},
     "output_type": "execute_result"
    }
   ],
   "source": [
    "df_outlier.loc[df_outlier['CollegeID'] == True].shape"
   ]
  },
  {
   "cell_type": "code",
   "execution_count": 21,
   "metadata": {},
   "outputs": [
    {
     "data": {
      "text/plain": [
       "<matplotlib.axes._subplots.AxesSubplot at 0x1bd2cab1648>"
      ]
     },
     "execution_count": 21,
     "metadata": {},
     "output_type": "execute_result"
    },
    {
     "data": {
      "image/png": "[encoded data removed]",
      "text/plain": [
       "<Figure size 432x288 with 1 Axes>"
      ]
     },
     "metadata": {
      "needs_background": "light"
     },
     "output_type": "display_data"
    }
   ],
   "source": [
    "sb.boxplot(df['CollegeID'])"
   ]
  },
  {
   "cell_type": "markdown",
   "metadata": {},
   "source": [
    "###### No outliers in this column"
   ]
  },
  {
   "cell_type": "markdown",
   "metadata": {},
   "source": [
    "## For CollegeGPA Column"
   ]
  },
  {
   "cell_type": "code",
   "execution_count": 22,
   "metadata": {},
   "outputs": [
    {
     "data": {
      "text/plain": [
       "(38, 27)"
      ]
     },
     "execution_count": 22,
     "metadata": {},
     "output_type": "execute_result"
    }
   ],
   "source": [
    "df_outlier.loc[df_outlier['collegeGPA'] == True].shape"
   ]
  },
  {
   "cell_type": "code",
   "execution_count": 23,
   "metadata": {},
   "outputs": [
    {
     "data": {
      "text/plain": [
       "<matplotlib.axes._subplots.AxesSubplot at 0x1bd2c9fb408>"
      ]
     },
     "execution_count": 23,
     "metadata": {},
     "output_type": "execute_result"
    },
    {
     "data": {
      "image/png": "[encoded data removed]",
      "text/plain": [
       "<Figure size 432x288 with 1 Axes>"
      ]
     },
     "metadata": {
      "needs_background": "light"
     },
     "output_type": "display_data"
    }
   ],
   "source": [
    "sb.boxplot(df['collegeGPA'])"
   ]
  },
  {
   "cell_type": "markdown",
   "metadata": {},
   "source": [
    "###### Outliers are present in CollegeGPA"
   ]
  },
  {
   "cell_type": "markdown",
   "metadata": {},
   "source": [
    "## For CollegeCityID Column"
   ]
  },
  {
   "cell_type": "code",
   "execution_count": 24,
   "metadata": {},
   "outputs": [
    {
     "data": {
      "text/plain": [
       "(0, 27)"
      ]
     },
     "execution_count": 24,
     "metadata": {},
     "output_type": "execute_result"
    }
   ],
   "source": [
    "df_outlier.loc[df_outlier['CollegeCityID'] == True].shape"
   ]
  },
  {
   "cell_type": "code",
   "execution_count": 25,
   "metadata": {},
   "outputs": [
    {
     "data": {
      "text/plain": [
       "<matplotlib.axes._subplots.AxesSubplot at 0x1bd2cbbbdc8>"
      ]
     },
     "execution_count": 25,
     "metadata": {},
     "output_type": "execute_result"
    },
    {
     "data": {
      "image/png": "[encoded data removed]",
      "text/plain": [
       "<Figure size 432x288 with 1 Axes>"
      ]
     },
     "metadata": {
      "needs_background": "light"
     },
     "output_type": "display_data"
    }
   ],
   "source": [
    "sb.boxplot(df['CollegeCityID'])"
   ]
  },
  {
   "cell_type": "markdown",
   "metadata": {},
   "source": [
    "###### No outlier in CollegeCityID column"
   ]
  },
  {
   "cell_type": "markdown",
   "metadata": {},
   "source": [
    "## For English Column"
   ]
  },
  {
   "cell_type": "code",
   "execution_count": 26,
   "metadata": {},
   "outputs": [
    {
     "data": {
      "text/plain": [
       "(15, 27)"
      ]
     },
     "execution_count": 26,
     "metadata": {},
     "output_type": "execute_result"
    }
   ],
   "source": [
    "df_outlier.loc[df_outlier['English'] == True].shape"
   ]
  },
  {
   "cell_type": "code",
   "execution_count": 27,
   "metadata": {},
   "outputs": [
    {
     "data": {
      "text/plain": [
       "<matplotlib.axes._subplots.AxesSubplot at 0x1bd2cbe6788>"
      ]
     },
     "execution_count": 27,
     "metadata": {},
     "output_type": "execute_result"
    },
    {
     "data": {
      "image/png": "[encoded data removed]",
      "text/plain": [
       "<Figure size 432x288 with 1 Axes>"
      ]
     },
     "metadata": {
      "needs_background": "light"
     },
     "output_type": "display_data"
    }
   ],
   "source": [
    "sb.boxplot(df['English'])"
   ]
  },
  {
   "cell_type": "markdown",
   "metadata": {},
   "source": [
    "###### Outliers are present in English column"
   ]
  }
 ],
 "metadata": {
  "kernelspec": {
   "display_name": "Python 3",
   "language": "python",
   "name": "python3"
  },
  "language_info": {
   "codemirror_mode": {
    "name": "ipython",
    "version": 3
   },
   "file_extension": ".py",
   "mimetype": "text/x-python",
   "name": "python",
   "nbconvert_exporter": "python",
   "pygments_lexer": "ipython3",
   "version": "3.7.6"
  }
 },
 "nbformat": 4,
 "nbformat_minor": 4
}
